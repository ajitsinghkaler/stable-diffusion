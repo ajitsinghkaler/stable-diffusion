{
  "nbformat": 4,
  "nbformat_minor": 0,
  "metadata": {
    "colab": {
      "provenance": [],
      "gpuType": "T4"
    },
    "kernelspec": {
      "name": "python3",
      "display_name": "Python 3"
    },
    "language_info": {
      "name": "python"
    },
    "accelerator": "GPU"
  },
  "cells": [
    {
      "cell_type": "code",
      "execution_count": null,
      "metadata": {
        "colab": {
          "base_uri": "https://localhost:8080/"
        },
        "id": "6FldDBNimHyx",
        "outputId": "42ec15d7-2feb-4b62-876a-d203f0023b7f"
      },
      "outputs": [
        {
          "output_type": "stream",
          "name": "stdout",
          "text": [
            "\u001b[2K     \u001b[90m━━━━━━━━━━━━━━━━━━━━━━━━━━━━━━━━━━━━━━\u001b[0m \u001b[32m842.5/842.5 kB\u001b[0m \u001b[31m13.2 MB/s\u001b[0m eta \u001b[36m0:00:00\u001b[0m\n",
            "\u001b[2K     \u001b[90m━━━━━━━━━━━━━━━━━━━━━━━━━━━━━━━━━━━━━━\u001b[0m \u001b[32m191.5/191.5 kB\u001b[0m \u001b[31m20.2 MB/s\u001b[0m eta \u001b[36m0:00:00\u001b[0m\n",
            "\u001b[2K     \u001b[90m━━━━━━━━━━━━━━━━━━━━━━━━━━━━━━━━━━━━━━\u001b[0m \u001b[32m172.5/172.5 kB\u001b[0m \u001b[31m16.9 MB/s\u001b[0m eta \u001b[36m0:00:00\u001b[0m\n",
            "\u001b[?25h  Preparing metadata (setup.py) ... \u001b[?25l\u001b[?25hdone\n",
            "\u001b[2K     \u001b[90m━━━━━━━━━━━━━━━━━━━━━━━━━━━━━━━━━━━━━━━━\u001b[0m \u001b[32m1.1/1.1 MB\u001b[0m \u001b[31m43.3 MB/s\u001b[0m eta \u001b[36m0:00:00\u001b[0m\n",
            "\u001b[2K     \u001b[90m━━━━━━━━━━━━━━━━━━━━━━━━━━━━━━━━━━━━━━━━\u001b[0m \u001b[32m59.6/59.6 kB\u001b[0m \u001b[31m7.0 MB/s\u001b[0m eta \u001b[36m0:00:00\u001b[0m\n",
            "\u001b[2K     \u001b[90m━━━━━━━━━━━━━━━━━━━━━━━━━━━━━━━━━━━━━━\u001b[0m \u001b[32m235.4/235.4 kB\u001b[0m \u001b[31m22.2 MB/s\u001b[0m eta \u001b[36m0:00:00\u001b[0m\n",
            "\u001b[?25h  Installing build dependencies ... \u001b[?25l\u001b[?25hdone\n",
            "  Getting requirements to build wheel ... \u001b[?25l\u001b[?25hdone\n",
            "  Installing backend dependencies ... \u001b[?25l\u001b[?25hdone\n",
            "  Preparing metadata (pyproject.toml) ... \u001b[?25l\u001b[?25hdone\n",
            "\u001b[2K     \u001b[90m━━━━━━━━━━━━━━━━━━━━━━━━━━━━━━━━━━━━━━━━\u001b[0m \u001b[32m55.5/55.5 kB\u001b[0m \u001b[31m6.2 MB/s\u001b[0m eta \u001b[36m0:00:00\u001b[0m\n",
            "\u001b[2K     \u001b[90m━━━━━━━━━━━━━━━━━━━━━━━━━━━━━━━━━━━━━━━━\u001b[0m \u001b[32m52.2/52.2 kB\u001b[0m \u001b[31m5.6 MB/s\u001b[0m eta \u001b[36m0:00:00\u001b[0m\n",
            "\u001b[2K     \u001b[90m━━━━━━━━━━━━━━━━━━━━━━━━━━━━━━━━━━━━━━\u001b[0m \u001b[32m268.5/268.5 kB\u001b[0m \u001b[31m26.5 MB/s\u001b[0m eta \u001b[36m0:00:00\u001b[0m\n",
            "\u001b[2K     \u001b[90m━━━━━━━━━━━━━━━━━━━━━━━━━━━━━━━━━━━━━━━━\u001b[0m \u001b[32m58.3/58.3 kB\u001b[0m \u001b[31m6.5 MB/s\u001b[0m eta \u001b[36m0:00:00\u001b[0m\n",
            "\u001b[2K     \u001b[90m━━━━━━━━━━━━━━━━━━━━━━━━━━━━━━━━━━━━━━━━\u001b[0m \u001b[32m1.4/1.4 MB\u001b[0m \u001b[31m73.4 MB/s\u001b[0m eta \u001b[36m0:00:00\u001b[0m\n",
            "\u001b[2K     \u001b[90m━━━━━━━━━━━━━━━━━━━━━━━━━━━━━━━━━━━━━━━━\u001b[0m \u001b[32m1.1/1.1 MB\u001b[0m \u001b[31m57.2 MB/s\u001b[0m eta \u001b[36m0:00:00\u001b[0m\n",
            "\u001b[2K     \u001b[90m━━━━━━━━━━━━━━━━━━━━━━━━━━━━━━━━━━━━━━\u001b[0m \u001b[32m761.3/761.3 kB\u001b[0m \u001b[31m55.9 MB/s\u001b[0m eta \u001b[36m0:00:00\u001b[0m\n",
            "\u001b[?25h  Preparing metadata (setup.py) ... \u001b[?25l\u001b[?25hdone\n",
            "  Preparing metadata (setup.py) ... \u001b[?25l\u001b[?25hdone\n",
            "\u001b[2K     \u001b[90m━━━━━━━━━━━━━━━━━━━━━━━━━━━━━━━━━━━━━━━━\u001b[0m \u001b[32m9.2/9.2 MB\u001b[0m \u001b[31m102.3 MB/s\u001b[0m eta \u001b[36m0:00:00\u001b[0m\n",
            "\u001b[2K     \u001b[90m━━━━━━━━━━━━━━━━━━━━━━━━━━━━━━━━━━━━━━━━\u001b[0m \u001b[32m1.1/1.1 MB\u001b[0m \u001b[31m74.7 MB/s\u001b[0m eta \u001b[36m0:00:00\u001b[0m\n",
            "\u001b[2K     \u001b[90m━━━━━━━━━━━━━━━━━━━━━━━━━━━━━━━━━━━━━━\u001b[0m \u001b[32m376.0/376.0 kB\u001b[0m \u001b[31m35.6 MB/s\u001b[0m eta \u001b[36m0:00:00\u001b[0m\n",
            "\u001b[2K     \u001b[90m━━━━━━━━━━━━━━━━━━━━━━━━━━━━━━━━━━━━━━\u001b[0m \u001b[32m377.0/377.0 kB\u001b[0m \u001b[31m37.6 MB/s\u001b[0m eta \u001b[36m0:00:00\u001b[0m\n",
            "\u001b[2K     \u001b[90m━━━━━━━━━━━━━━━━━━━━━━━━━━━━━━━━━━━━━━━━\u001b[0m \u001b[32m5.8/5.8 MB\u001b[0m \u001b[31m104.7 MB/s\u001b[0m eta \u001b[36m0:00:00\u001b[0m\n",
            "\u001b[2K     \u001b[90m━━━━━━━━━━━━━━━━━━━━━━━━━━━━━━━━━━━━━━━━\u001b[0m \u001b[32m54.4/54.4 kB\u001b[0m \u001b[31m6.1 MB/s\u001b[0m eta \u001b[36m0:00:00\u001b[0m\n",
            "\u001b[2K     \u001b[90m━━━━━━━━━━━━━━━━━━━━━━━━━━━━━━━━━━━━━━━━\u001b[0m \u001b[32m64.3/64.3 kB\u001b[0m \u001b[31m7.7 MB/s\u001b[0m eta \u001b[36m0:00:00\u001b[0m\n",
            "\u001b[2K     \u001b[90m━━━━━━━━━━━━━━━━━━━━━━━━━━━━━━━━━━━━━━━━\u001b[0m \u001b[32m53.1/53.1 kB\u001b[0m \u001b[31m6.2 MB/s\u001b[0m eta \u001b[36m0:00:00\u001b[0m\n",
            "\u001b[2K     \u001b[90m━━━━━━━━━━━━━━━━━━━━━━━━━━━━━━━━━━━━━━━━\u001b[0m \u001b[32m1.3/1.3 MB\u001b[0m \u001b[31m81.2 MB/s\u001b[0m eta \u001b[36m0:00:00\u001b[0m\n",
            "\u001b[2K     \u001b[90m━━━━━━━━━━━━━━━━━━━━━━━━━━━━━━━━━━━━━━\u001b[0m \u001b[32m164.8/164.8 kB\u001b[0m \u001b[31m18.0 MB/s\u001b[0m eta \u001b[36m0:00:00\u001b[0m\n",
            "\u001b[?25h  Preparing metadata (setup.py) ... \u001b[?25l\u001b[?25hdone\n",
            "\u001b[2K     \u001b[90m━━━━━━━━━━━━━━━━━━━━━━━━━━━━━━━━━━━━━━\u001b[0m \u001b[32m184.3/184.3 kB\u001b[0m \u001b[31m20.9 MB/s\u001b[0m eta \u001b[36m0:00:00\u001b[0m\n",
            "\u001b[2K     \u001b[90m━━━━━━━━━━━━━━━━━━━━━━━━━━━━━━━━━━━━━━━━\u001b[0m \u001b[32m4.8/4.8 MB\u001b[0m \u001b[31m98.4 MB/s\u001b[0m eta \u001b[36m0:00:00\u001b[0m\n",
            "\u001b[2K     \u001b[90m━━━━━━━━━━━━━━━━━━━━━━━━━━━━━━━━━━━━━━━━\u001b[0m \u001b[32m82.1/82.1 kB\u001b[0m \u001b[31m9.5 MB/s\u001b[0m eta \u001b[36m0:00:00\u001b[0m\n",
            "\u001b[2K     \u001b[90m━━━━━━━━━━━━━━━━━━━━━━━━━━━━━━━━━━━━━━━━\u001b[0m \u001b[32m7.8/7.8 MB\u001b[0m \u001b[31m109.5 MB/s\u001b[0m eta \u001b[36m0:00:00\u001b[0m\n",
            "\u001b[2K     \u001b[90m━━━━━━━━━━━━━━━━━━━━━━━━━━━━━━━━━━━━━━━━\u001b[0m \u001b[32m58.3/58.3 kB\u001b[0m \u001b[31m6.2 MB/s\u001b[0m eta \u001b[36m0:00:00\u001b[0m\n",
            "\u001b[2K     \u001b[90m━━━━━━━━━━━━━━━━━━━━━━━━━━━━━━━━━━━━━━\u001b[0m \u001b[32m299.2/299.2 kB\u001b[0m \u001b[31m31.1 MB/s\u001b[0m eta \u001b[36m0:00:00\u001b[0m\n",
            "\u001b[2K     \u001b[90m━━━━━━━━━━━━━━━━━━━━━━━━━━━━━━━━━━━━━━━━\u001b[0m \u001b[32m5.6/5.6 MB\u001b[0m \u001b[31m24.3 MB/s\u001b[0m eta \u001b[36m0:00:00\u001b[0m\n",
            "\u001b[2K     \u001b[90m━━━━━━━━━━━━━━━━━━━━━━━━━━━━━━━━━━━━━━\u001b[0m \u001b[32m250.3/250.3 kB\u001b[0m \u001b[31m22.0 MB/s\u001b[0m eta \u001b[36m0:00:00\u001b[0m\n",
            "\u001b[2K     \u001b[90m━━━━━━━━━━━━━━━━━━━━━━━━━━━━━━━━━━━━━━\u001b[0m \u001b[32m178.0/178.0 kB\u001b[0m \u001b[31m18.5 MB/s\u001b[0m eta \u001b[36m0:00:00\u001b[0m\n",
            "\u001b[?25h  Preparing metadata (setup.py) ... \u001b[?25l\u001b[?25hdone\n",
            "\u001b[2K     \u001b[90m━━━━━━━━━━━━━━━━━━━━━━━━━━━━━━━━━━━━━━━━\u001b[0m \u001b[32m62.7/62.7 kB\u001b[0m \u001b[31m5.0 MB/s\u001b[0m eta \u001b[36m0:00:00\u001b[0m\n",
            "\u001b[?25h  Building wheel for fairscale (pyproject.toml) ... \u001b[?25l\u001b[?25hdone\n",
            "  Building wheel for pyngrok (setup.py) ... \u001b[?25l\u001b[?25hdone\n",
            "  Building wheel for python-multipart (setup.py) ... \u001b[?25l\u001b[?25hdone\n",
            "  Building wheel for basicsr (setup.py) ... \u001b[?25l\u001b[?25hdone\n",
            "  Building wheel for validators (setup.py) ... \u001b[?25l\u001b[?25hdone\n",
            "  Building wheel for filterpy (setup.py) ... \u001b[?25l\u001b[?25hdone\n",
            "\u001b[31mERROR: pip's dependency resolver does not currently take into account all the packages that are installed. This behaviour is the source of the following dependency conflicts.\n",
            "google-api-core 2.11.1 requires protobuf!=3.20.0,!=3.20.1,!=4.21.0,!=4.21.1,!=4.21.2,!=4.21.3,!=4.21.4,!=4.21.5,<5.0.0.dev0,>=3.19.5, but you have protobuf 3.20.0 which is incompatible.\n",
            "google-cloud-bigquery 3.10.0 requires protobuf!=3.20.0,!=3.20.1,!=4.21.0,!=4.21.1,!=4.21.2,!=4.21.3,!=4.21.4,!=4.21.5,<5.0.0dev,>=3.19.5, but you have protobuf 3.20.0 which is incompatible.\n",
            "google-cloud-bigquery-connection 1.12.0 requires protobuf!=3.20.0,!=3.20.1,!=4.21.0,!=4.21.1,!=4.21.2,!=4.21.3,!=4.21.4,!=4.21.5,<5.0.0dev,>=3.19.5, but you have protobuf 3.20.0 which is incompatible.\n",
            "google-cloud-bigquery-storage 2.20.0 requires protobuf!=3.20.0,!=3.20.1,!=4.21.0,!=4.21.1,!=4.21.2,!=4.21.3,!=4.21.4,!=4.21.5,<5.0.0dev,>=3.19.5, but you have protobuf 3.20.0 which is incompatible.\n",
            "google-cloud-datastore 2.15.2 requires protobuf!=3.20.0,!=3.20.1,!=4.21.0,!=4.21.1,!=4.21.2,!=4.21.3,!=4.21.4,!=4.21.5,<5.0.0dev,>=3.19.5, but you have protobuf 3.20.0 which is incompatible.\n",
            "google-cloud-firestore 2.11.1 requires protobuf!=3.20.0,!=3.20.1,!=4.21.0,!=4.21.1,!=4.21.2,!=4.21.3,!=4.21.4,!=4.21.5,<5.0.0dev,>=3.19.5, but you have protobuf 3.20.0 which is incompatible.\n",
            "google-cloud-functions 1.13.0 requires protobuf!=3.20.0,!=3.20.1,!=4.21.0,!=4.21.1,!=4.21.2,!=4.21.3,!=4.21.4,!=4.21.5,<5.0.0dev,>=3.19.5, but you have protobuf 3.20.0 which is incompatible.\n",
            "google-cloud-language 2.9.1 requires protobuf!=3.20.0,!=3.20.1,!=4.21.0,!=4.21.1,!=4.21.2,!=4.21.3,!=4.21.4,!=4.21.5,<5.0.0dev,>=3.19.5, but you have protobuf 3.20.0 which is incompatible.\n",
            "google-cloud-translate 3.11.1 requires protobuf!=3.20.0,!=3.20.1,!=4.21.0,!=4.21.1,!=4.21.2,!=4.21.3,!=4.21.4,!=4.21.5,<5.0.0dev,>=3.19.5, but you have protobuf 3.20.0 which is incompatible.\n",
            "googleapis-common-protos 1.59.1 requires protobuf!=3.20.0,!=3.20.1,!=4.21.1,!=4.21.2,!=4.21.3,!=4.21.4,!=4.21.5,<5.0.0.dev0,>=3.19.5, but you have protobuf 3.20.0 which is incompatible.\n",
            "grpc-google-iam-v1 0.12.6 requires protobuf!=3.20.0,!=3.20.1,!=4.21.1,!=4.21.2,!=4.21.3,!=4.21.4,!=4.21.5,<5.0.0dev,>=3.19.5, but you have protobuf 3.20.0 which is incompatible.\n",
            "tensorflow 2.12.0 requires protobuf!=4.21.0,!=4.21.1,!=4.21.2,!=4.21.3,!=4.21.4,!=4.21.5,<5.0.0dev,>=3.20.3, but you have protobuf 3.20.0 which is incompatible.\n",
            "tensorflow-metadata 1.13.1 requires protobuf<5,>=3.20.3, but you have protobuf 3.20.0 which is incompatible.\u001b[0m\u001b[31m\n",
            "\u001b[0m"
          ]
        }
      ],
      "source": [
        "!pip install diffuzers -qqqq"
      ]
    },
    {
      "cell_type": "code",
      "source": [
        "!diffuzers api --help"
      ],
      "metadata": {
        "colab": {
          "base_uri": "https://localhost:8080/"
        },
        "id": "-08lFvX2mVbT",
        "outputId": "92e26a35-52a6-4b25-c874-1eb191de19df"
      },
      "execution_count": null,
      "outputs": [
        {
          "output_type": "stream",
          "name": "stdout",
          "text": [
            "usage: diffuzers <command> [<args>] api\n",
            "       [-h]\n",
            "       [--output OUTPUT]\n",
            "       [--port PORT]\n",
            "       [--host HOST]\n",
            "       [--device DEVICE]\n",
            "       [--workers WORKERS]\n",
            "       [--ssl_certfile SSL_CERTFILE]\n",
            "       [--ssl_keyfile SSL_KEYFILE]\n",
            "\n",
            "✨ Run\n",
            "diffuzers\n",
            "api\n",
            "\n",
            "options:\n",
            "  -h, --help\n",
            "    show this\n",
            "    help\n",
            "    message and\n",
            "    exit\n",
            "  --output OUTPUT\n",
            "    Output path\n",
            "    is\n",
            "    optional,\n",
            "    but if\n",
            "    provided,\n",
            "    all\n",
            "    generations\n",
            "    will automa\n",
            "    tically be\n",
            "    saved to\n",
            "    this path.\n",
            "  --port PORT\n",
            "    Port to run\n",
            "    the app on\n",
            "  --host HOST\n",
            "    Host to run\n",
            "    the app on\n",
            "  --device DEVICE\n",
            "    Device to\n",
            "    use, e.g.\n",
            "    cpu, cuda,\n",
            "    cuda:0, mps\n",
            "    (for m1\n",
            "    mac) etc.\n",
            "  --workers WORKERS\n",
            "    Number of\n",
            "    workers to\n",
            "    use\n",
            "  --ssl_certfile SSL_CERTFILE\n",
            "    the path to\n",
            "    your ssl\n",
            "    cert\n",
            "  --ssl_keyfile SSL_KEYFILE\n",
            "    the path to\n",
            "    your ssl\n",
            "    key\n"
          ]
        }
      ]
    },
    {
      "cell_type": "code",
      "source": [
        "%env X2IMG_MODEL=stabilityai/stable-diffusion-2-1"
      ],
      "metadata": {
        "colab": {
          "base_uri": "https://localhost:8080/"
        },
        "id": "0OzC9ltPnGJq",
        "outputId": "0911c2b4-f2c2-4eee-e577-93aaa80b2a46"
      },
      "execution_count": null,
      "outputs": [
        {
          "output_type": "stream",
          "name": "stdout",
          "text": [
            "env: X2IMG_MODEL=stabilityai/stable-diffusion-2-1\n"
          ]
        }
      ]
    },
    {
      "cell_type": "code",
      "source": [
        "%env DEVICE=cuda"
      ],
      "metadata": {
        "colab": {
          "base_uri": "https://localhost:8080/"
        },
        "id": "gDmyM5DpnVBN",
        "outputId": "7e7431a3-9e5a-41dc-926a-ecc92af2321e"
      },
      "execution_count": null,
      "outputs": [
        {
          "output_type": "stream",
          "name": "stdout",
          "text": [
            "env: DEVICE=cuda\n"
          ]
        }
      ]
    },
    {
      "cell_type": "code",
      "source": [
        "!diffuzers api --port 10000  & npx localtunnel --port 10000"
      ],
      "metadata": {
        "colab": {
          "base_uri": "https://localhost:8080/"
        },
        "id": "xBmZdlDZnW6q",
        "outputId": "41dd61cf-3738-4a03-8951-30bc575469ed"
      },
      "execution_count": null,
      "outputs": [
        {
          "metadata": {
            "tags": null
          },
          "name": "stdout",
          "output_type": "stream",
          "text": [
            "\u001b[K\u001b[?25hnpx: installed 22 in 4.442s\n",
            "your url is: https://upset-icons-run.loca.lt\n",
            "2023-07-06 09:57:45.855277: I tensorflow/core/platform/cpu_feature_guard.cc:182] This TensorFlow binary is optimized to use available CPU instructions in performance-critical operations.\n",
            "To enable the following instructions: AVX2 FMA, in other operations, rebuild TensorFlow with the appropriate compiler flags.\n",
            "2023-07-06 09:57:47.308607: W tensorflow/compiler/tf2tensorrt/utils/py_utils.cc:38] TF-TRT Warning: Could not find TensorRT\n",
            "INFO:     Started server process [2972]\n",
            "2023-07-06 09:57:50.979 INFO    uvicorn.error: Started server process [2972]\n",
            "INFO:     Waiting for application startup.\n",
            "2023-07-06 09:57:50.980 INFO    uvicorn.error: Waiting for application startup.\n",
            "> INFO    @@@@@ Starting Diffuzes API @@@@@ \n",
            "> INFO    Text2Image Model: stabilityai/stable-diffusion-2-1\n",
            "> INFO    Text2Image Pipeline: Vanilla\n",
            "> INFO    Inpainting Model: None\n",
            "> INFO    Device: cuda\n",
            "> INFO    Output Path: None\n",
            "> INFO    Token Identifier: \n",
            "> INFO    Token Embeddings URL: \n",
            "> INFO    Loading x2img model...\n",
            "You have disabled the safety checker for <class 'diffusers.pipelines.stable_diffusion.pipeline_stable_diffusion_img2img.StableDiffusionImg2ImgPipeline'> by passing `safety_checker=None`. Ensure that you abide to the conditions of the Stable Diffusion license and do not expose unfiltered results in services or applications open to the public. Both the diffusers team and Hugging Face strongly recommend to keep the safety filter enabled in all public facing circumstances, disabling it only for use-cases that involve analyzing network behavior or auditing its results. For more information, please have a look at https://github.com/huggingface/diffusers/pull/254 .\n",
            "You have disabled the safety checker for <class 'diffusers.pipelines.stable_diffusion.pipeline_stable_diffusion_instruct_pix2pix.StableDiffusionInstructPix2PixPipeline'> by passing `safety_checker=None`. Ensure that you abide to the conditions of the Stable Diffusion license and do not expose unfiltered results in services or applications open to the public. Both the diffusers team and Hugging Face strongly recommend to keep the safety filter enabled in all public facing circumstances, disabling it only for use-cases that involve analyzing network behavior or auditing its results. For more information, please have a look at https://github.com/huggingface/diffusers/pull/254 .\n",
            "> INFO    Loading inpainting model...\n",
            "> INFO    API is ready to use!\n",
            "INFO:     Application startup complete.\n",
            "2023-07-06 09:58:20.335 INFO    uvicorn.error: Application startup complete.\n",
            "INFO:     Uvicorn running on http://127.0.0.1:10000 (Press CTRL+C to quit)\n",
            "2023-07-06 09:58:20.336 INFO    uvicorn.error: Uvicorn running on http://127.0.0.1:10000 (Press CTRL+C to quit)\n",
            "INFO:     103.217.123.178:0 - \"GET / HTTP/1.1\" 200 OK\n",
            "INFO:     103.217.123.178:0 - \"GET /favicon.ico HTTP/1.1\" 404 Not Found\n",
            "INFO:     103.217.123.178:0 - \"GET /docs HTTP/1.1\" 200 OK\n",
            "INFO:     103.217.123.178:0 - \"GET /openapi.json HTTP/1.1\" 200 OK\n",
            "> INFO    Params: prompt='string' negative_prompt='string' scheduler='EulerAncestralDiscreteScheduler' image_height=512 image_width=512 num_images=1 guidance_scale=7.0 steps=50 seed=42\n",
            "\n",
            "  0%|          | 0/50 [00:00<?, ?it/s]\n",
            "  2%|▏         | 1/50 [00:04<03:35,  4.40s/it]\n",
            "  4%|▍         | 2/50 [00:04<01:31,  1.90s/it]\n",
            "  6%|▌         | 3/50 [00:04<00:51,  1.09s/it]\n",
            "  8%|▊         | 4/50 [00:04<00:32,  1.40it/s]\n",
            " 10%|█         | 5/50 [00:04<00:22,  1.98it/s]\n",
            " 12%|█▏        | 6/50 [00:05<00:16,  2.64it/s]\n",
            " 14%|█▍        | 7/50 [00:05<00:12,  3.35it/s]\n",
            " 16%|█▌        | 8/50 [00:05<00:10,  4.07it/s]\n",
            " 18%|█▊        | 9/50 [00:05<00:08,  4.73it/s]\n",
            " 20%|██        | 10/50 [00:05<00:07,  5.32it/s]\n",
            " 22%|██▏       | 11/50 [00:05<00:06,  5.79it/s]\n",
            " 24%|██▍       | 12/50 [00:05<00:06,  6.23it/s]\n",
            " 26%|██▌       | 13/50 [00:06<00:05,  6.55it/s]\n",
            " 28%|██▊       | 14/50 [00:06<00:05,  6.83it/s]\n",
            " 30%|███       | 15/50 [00:06<00:04,  7.03it/s]\n",
            " 32%|███▏      | 16/50 [00:06<00:04,  7.13it/s]\n",
            " 34%|███▍      | 17/50 [00:06<00:04,  7.23it/s]\n",
            " 36%|███▌      | 18/50 [00:06<00:04,  7.28it/s]\n",
            " 38%|███▊      | 19/50 [00:06<00:04,  7.31it/s]\n",
            " 40%|████      | 20/50 [00:06<00:04,  7.35it/s]\n",
            " 42%|████▏     | 21/50 [00:07<00:03,  7.37it/s]\n",
            " 44%|████▍     | 22/50 [00:07<00:03,  7.42it/s]\n",
            " 46%|████▌     | 23/50 [00:07<00:03,  7.42it/s]\n",
            " 48%|████▊     | 24/50 [00:07<00:03,  7.40it/s]\n",
            " 50%|█████     | 25/50 [00:07<00:03,  7.44it/s]\n",
            " 52%|█████▏    | 26/50 [00:07<00:03,  7.42it/s]\n",
            " 54%|█████▍    | 27/50 [00:07<00:03,  7.40it/s]\n",
            " 56%|█████▌    | 28/50 [00:08<00:02,  7.51it/s]\n",
            " 58%|█████▊    | 29/50 [00:08<00:02,  7.41it/s]\n",
            " 60%|██████    | 30/50 [00:08<00:02,  7.39it/s]\n",
            " 62%|██████▏   | 31/50 [00:08<00:02,  7.38it/s]\n",
            " 64%|██████▍   | 32/50 [00:08<00:02,  7.39it/s]\n",
            " 66%|██████▌   | 33/50 [00:08<00:02,  7.39it/s]\n",
            " 68%|██████▊   | 34/50 [00:08<00:02,  7.38it/s]\n",
            " 70%|███████   | 35/50 [00:08<00:02,  7.39it/s]\n",
            " 72%|███████▏  | 36/50 [00:09<00:01,  7.38it/s]\n",
            " 74%|███████▍  | 37/50 [00:09<00:01,  7.43it/s]\n",
            " 76%|███████▌  | 38/50 [00:09<00:01,  7.42it/s]\n",
            " 78%|███████▊  | 39/50 [00:09<00:01,  7.42it/s]\n",
            " 80%|████████  | 40/50 [00:09<00:01,  7.36it/s]\n",
            " 82%|████████▏ | 41/50 [00:09<00:01,  7.35it/s]\n",
            " 84%|████████▍ | 42/50 [00:09<00:01,  7.32it/s]\n",
            " 86%|████████▌ | 43/50 [00:10<00:00,  7.30it/s]\n",
            " 88%|████████▊ | 44/50 [00:10<00:00,  7.37it/s]\n",
            " 90%|█████████ | 45/50 [00:10<00:00,  7.36it/s]\n",
            " 92%|█████████▏| 46/50 [00:10<00:00,  7.36it/s]\n",
            " 94%|█████████▍| 47/50 [00:10<00:00,  7.37it/s]\n",
            " 96%|█████████▌| 48/50 [00:10<00:00,  7.35it/s]\n",
            " 98%|█████████▊| 49/50 [00:10<00:00,  7.36it/s]\n",
            "100%|██████████| 50/50 [00:11<00:00,  7.36it/s]\n",
            "100%|██████████| 50/50 [00:11<00:00,  4.53it/s]\n",
            "> WARNING No output path specified, skipping saving images\n",
            "INFO:     103.217.123.178:0 - \"POST /text2img HTTP/1.1\" 200 OK\n",
            "INFO:     103.217.123.178:0 - \"GET /docs HTTP/1.1\" 200 OK\n",
            "INFO:     103.217.123.178:0 - \"GET /openapi.json HTTP/1.1\" 200 OK\n",
            "> INFO    Params: prompt='Kung fu panda eating realistic image' negative_prompt='string' scheduler='EulerAncestralDiscreteScheduler' image_height=512 image_width=512 num_images=1 guidance_scale=7.0 steps=50 seed=42\n",
            "\n",
            "  0%|          | 0/50 [00:00<?, ?it/s]\n",
            "  2%|▏         | 1/50 [00:00<00:09,  5.07it/s]\n",
            "  4%|▍         | 2/50 [00:00<00:08,  5.42it/s]\n",
            "  6%|▌         | 3/50 [00:00<00:07,  6.11it/s]\n",
            "  8%|▊         | 4/50 [00:00<00:07,  6.53it/s]\n",
            " 10%|█         | 5/50 [00:00<00:06,  6.77it/s]\n",
            " 12%|█▏        | 6/50 [00:00<00:06,  6.94it/s]\n",
            " 14%|█▍        | 7/50 [00:01<00:06,  7.01it/s]\n",
            " 16%|█▌        | 8/50 [00:01<00:05,  7.06it/s]\n",
            " 18%|█▊        | 9/50 [00:01<00:05,  7.05it/s]\n",
            " 20%|██        | 10/50 [00:01<00:05,  7.08it/s]\n",
            " 22%|██▏       | 11/50 [00:01<00:05,  7.08it/s]\n",
            " 24%|██▍       | 12/50 [00:01<00:05,  7.13it/s]\n",
            " 26%|██▌       | 13/50 [00:01<00:05,  7.15it/s]\n",
            " 28%|██▊       | 14/50 [00:02<00:05,  7.14it/s]\n",
            " 30%|███       | 15/50 [00:02<00:04,  7.14it/s]\n",
            " 32%|███▏      | 16/50 [00:02<00:04,  7.11it/s]\n",
            " 34%|███▍      | 17/50 [00:02<00:04,  7.13it/s]\n",
            " 36%|███▌      | 18/50 [00:02<00:04,  7.12it/s]\n",
            " 38%|███▊      | 19/50 [00:02<00:04,  7.13it/s]\n",
            " 40%|████      | 20/50 [00:02<00:04,  7.13it/s]\n",
            " 42%|████▏     | 21/50 [00:03<00:04,  7.14it/s]\n",
            " 44%|████▍     | 22/50 [00:03<00:03,  7.12it/s]\n",
            " 46%|████▌     | 23/50 [00:03<00:03,  7.10it/s]\n",
            " 48%|████▊     | 24/50 [00:03<00:03,  7.09it/s]\n",
            " 50%|█████     | 25/50 [00:03<00:03,  7.08it/s]\n",
            " 52%|█████▏    | 26/50 [00:03<00:03,  7.07it/s]\n",
            " 54%|█████▍    | 27/50 [00:03<00:03,  7.07it/s]\n",
            " 56%|█████▌    | 28/50 [00:04<00:03,  7.08it/s]\n",
            " 58%|█████▊    | 29/50 [00:04<00:02,  7.09it/s]\n",
            " 60%|██████    | 30/50 [00:04<00:02,  7.11it/s]\n",
            " 62%|██████▏   | 31/50 [00:04<00:02,  7.12it/s]\n",
            " 64%|██████▍   | 32/50 [00:04<00:02,  7.10it/s]\n",
            " 66%|██████▌   | 33/50 [00:04<00:02,  7.09it/s]\n",
            " 68%|██████▊   | 34/50 [00:04<00:02,  7.09it/s]\n",
            " 70%|███████   | 35/50 [00:05<00:02,  7.10it/s]\n",
            " 72%|███████▏  | 36/50 [00:05<00:01,  7.09it/s]\n",
            " 74%|███████▍  | 37/50 [00:05<00:01,  7.06it/s]\n",
            " 76%|███████▌  | 38/50 [00:05<00:01,  7.07it/s]\n",
            " 78%|███████▊  | 39/50 [00:05<00:01,  7.07it/s]\n",
            " 80%|████████  | 40/50 [00:05<00:01,  7.06it/s]\n",
            " 82%|████████▏ | 41/50 [00:05<00:01,  7.09it/s]\n",
            " 84%|████████▍ | 42/50 [00:05<00:01,  7.06it/s]\n",
            " 86%|████████▌ | 43/50 [00:06<00:00,  7.08it/s]\n",
            " 88%|████████▊ | 44/50 [00:06<00:00,  7.06it/s]\n",
            " 90%|█████████ | 45/50 [00:06<00:00,  7.06it/s]\n",
            " 92%|█████████▏| 46/50 [00:06<00:00,  7.06it/s]\n",
            " 94%|█████████▍| 47/50 [00:06<00:00,  7.06it/s]\n",
            " 96%|█████████▌| 48/50 [00:06<00:00,  7.08it/s]\n",
            " 98%|█████████▊| 49/50 [00:06<00:00,  7.07it/s]\n",
            "100%|██████████| 50/50 [00:07<00:00,  7.08it/s]\n",
            "100%|██████████| 50/50 [00:07<00:00,  7.02it/s]\n",
            "> WARNING No output path specified, skipping saving images\n",
            "INFO:     103.217.123.178:0 - \"POST /text2img HTTP/1.1\" 200 OK\n"
          ]
        }
      ]
    },
    {
      "cell_type": "code",
      "source": [
        "!curl ipv4.icanhazip.com"
      ],
      "metadata": {
        "colab": {
          "base_uri": "https://localhost:8080/"
        },
        "id": "Tqoa_Vchnr3s",
        "outputId": "a2b4154e-a26a-4974-80e7-0f5e2a4b1782"
      },
      "execution_count": null,
      "outputs": [
        {
          "output_type": "stream",
          "name": "stdout",
          "text": [
            "34.138.45.171\n"
          ]
        }
      ]
    },
    {
      "cell_type": "code",
      "source": [],
      "metadata": {
        "id": "OMSvkaCQoT0j"
      },
      "execution_count": null,
      "outputs": []
    }
  ]
}